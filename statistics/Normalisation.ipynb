{
 "cells": [
  {
   "cell_type": "code",
   "execution_count": null,
   "id": "9b05bb11-eaf7-4c73-8d0e-2ec8402fd16c",
   "metadata": {},
   "outputs": [],
   "source": [
    "import pandas as pd\n",
    "\n",
    "def normalise_nsl(input_csv, output_csv):\n",
    "    \"\"\"\n",
    "    Reads a CSV file containing an 'nSL' column, normalizes that column,\n",
    "    and saves the resulting DataFrame to another CSV.\n",
    "    \"\"\"\n",
    "    df = pd.read_csv(input_csv)\n",
    "    if \"nSL\" not in df.columns:\n",
    "        raise ValueError(\"The DataFrame does not contain an 'nSL' column.\")\n",
    "\n",
    "    mean_nsl = df[\"nSL\"].mean()\n",
    "    std_nsl = df[\"nSL\"].std()\n",
    "    df[\"nSL_normalized\"] = (df[\"nSL\"] - mean_nsl) / std_nsl\n",
    "\n",
    "    df.to_csv(output_csv, index=False)\n",
    "    print(f\"Normalized nSL data has been saved to: {output_csv}\")\n",
    "\n",
    "# Just run the function directly:\n",
    "input_file = \"PJL_Final_Cleaned.csv\"  \n",
    "output_file = \"PJL_Final_Cleaned_norm.csv\"\n",
    "normalize_nsl(input_file, output_file)"
   ]
  }
 ],
 "metadata": {
  "kernelspec": {
   "display_name": "Python 3 (ipykernel)",
   "language": "python",
   "name": "python3"
  },
  "language_info": {
   "codemirror_mode": {
    "name": "ipython",
    "version": 3
   },
   "file_extension": ".py",
   "mimetype": "text/x-python",
   "name": "python",
   "nbconvert_exporter": "python",
   "pygments_lexer": "ipython3",
   "version": "3.11.2"
  }
 },
 "nbformat": 4,
 "nbformat_minor": 5
}
